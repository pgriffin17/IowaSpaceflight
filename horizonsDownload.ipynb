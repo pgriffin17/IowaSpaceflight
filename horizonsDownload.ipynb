{
 "cells": [
  {
   "cell_type": "code",
   "execution_count": 4,
   "metadata": {},
   "outputs": [],
   "source": [
    "import astroquery.jplhorizons as jpl\n",
    "import astropy.time as time\n",
    "import astropy.units as u\n",
    "import numpy as np\n",
    "import pandas as pd\n",
    "import urllib.request\n",
    "import read_web\n",
    "from datetime import datetime\n",
    "import re\n",
    "import plot"
   ]
  },
  {
   "cell_type": "code",
   "execution_count": 25,
   "metadata": {},
   "outputs": [],
   "source": [
    "# Get vectors for spacecraft from JPL Horizons\n",
    "\n",
    "def getVectors(object, start, stop, step):\n",
    "    obj = jpl.Horizons(id=object, location='500@0', epochs={'start':start, 'stop':stop, 'step':step})\n",
    "    return obj.vectors()\n",
    "\n",
    "# Get vectors for object centered on current date\n",
    "# plus/minus a specified number of days\n",
    "# and for a specified time step\n",
    "def getVectorsNow(object, start_diff, step):\n",
    "    # get current date using astropy.time\n",
    "    now = time.Time.now()\n",
    "    # Get start/end dates\n",
    "    if step.endswith('d'):\n",
    "        start_diff = int(start_diff.split('d')[0])\n",
    "        print(start_diff)\n",
    "        start = now - start_diff*u.day\n",
    "        stop = now + start_diff*u.day\n",
    "    elif step.endswith('h'):\n",
    "        start_diff = start_diff.split('h')[0]\n",
    "        start = now - start_diff*u.hour\n",
    "        stop = now + start_diff*u.hour\n",
    "    elif step.endswith('m'):\n",
    "        start_diff = start_diff.split('m')[0]\n",
    "        start = now - start_diff*u.minute\n",
    "        stop = now + start_diff*u.minute\n",
    "    else:\n",
    "        print('Error: time step must end with d, h, or m')\n",
    "        return\n",
    "    start = start.iso\n",
    "    stop = stop.iso\n",
    "    obj = jpl.Horizons(id=object, location='500@0', epochs={'start':start, 'stop':stop, 'step':step})\n",
    "    return obj.vectors()"
   ]
  },
  {
   "cell_type": "code",
   "execution_count": null,
   "metadata": {},
   "outputs": [],
   "source": [
    "def breakObjectList(spacecraft, minAU, maxAU):\n",
    "    # If spacecraft is closer than minAU, add to freqList\n",
    "    # If spacecraft is farther than maxAU, add to slowList\n",
    "    # If spacecraft is between minAU and maxAU, add to midList\n",
    "    freqList = []\n",
    "    midList = []\n",
    "    slowList = []\n",
    "\n",
    "    for i in range(len(spacecraft)):\n",
    "        if spacecraft['range'][i] < minAU:\n",
    "            freqList.append(spacecraft[i])\n",
    "        elif spacecraft['range'][i] > maxAU:\n",
    "            slowList.append(spacecraft[i])\n",
    "        else:\n",
    "            midList.append(spacecraft[i])\n",
    "\n",
    "    return freqList, midList, slowList"
   ]
  },
  {
   "cell_type": "code",
   "execution_count": 29,
   "metadata": {},
   "outputs": [
    {
     "data": {
      "text/plain": [
       "'2023-09-23'"
      ]
     },
     "execution_count": 29,
     "metadata": {},
     "output_type": "execute_result"
    }
   ],
   "source": [
    "# Get current date using astropy.time\n",
    "now = time.Time.now()\n",
    "# Get only date from now, not time\n",
    "now = now.iso.split(' ')[0]\n",
    "now"
   ]
  },
  {
   "cell_type": "code",
   "execution_count": 3,
   "metadata": {},
   "outputs": [],
   "source": [
    "# Get single vector for a given object\n",
    "def getSingleVector(object):\n",
    "    # Get current date using astropy.time\n",
    "    now = time.Time.now()\n",
    "    # Get only date from now, not time\n",
    "    now = now.iso.split(' ')[0]\n",
    "    vector = jpl.Horizons(id=object, location='500@0', epochs={now})\n",
    "    vector = vector.vectors()\n",
    "    return vector\n",
    "\n",
    "def getSingleRange(object):\n",
    "    vector = getSingleVector(object)\n",
    "    return vector['range'][0]"
   ]
  },
  {
   "cell_type": "code",
   "execution_count": 5,
   "metadata": {},
   "outputs": [],
   "source": [
    "vec1 = getSingleVector(1)"
   ]
  },
  {
   "cell_type": "code",
   "execution_count": 17,
   "metadata": {},
   "outputs": [
    {
     "name": "stdout",
     "output_type": "stream",
     "text": [
      "0.05082194316077274\n"
     ]
    }
   ],
   "source": [
    "x = vec1['x'][0]\n",
    "y = vec1['y'][0]\n",
    "z = vec1['z'][0]\n",
    "print(x)"
   ]
  },
  {
   "cell_type": "code",
   "execution_count": 5,
   "metadata": {},
   "outputs": [
    {
     "name": "stdout",
     "output_type": "stream",
     "text": [
      "{'x': [0.05082194316077274, 0.6413879073833666, 0.9949792544456858, -1.420690979193568, 3.983655074880103, 8.793772431867284, 12.56731270048037, 29.81679557006555, 16.9230232795643], 'y': [0.2989879523036556, 0.3168004866750849, 0.004382957973220163, -0.7590205747666087, 2.954041008666241, -4.222226335472898, 15.06905568010637, -2.105765784414736, -30.4256180076543], 'z': [0.01939154639008736, -0.03289918040240307, 0.0002067771236456376, 0.01899467680009725, -0.1013810539516233, -0.2767080028477125, -0.1068450165633456, -0.6437940889592956, -1.639420121748169]}\n"
     ]
    }
   ],
   "source": [
    "planet_coords = plot.getPlanetData()\n",
    "data = planet_coords.to_dict(orient='list')\n",
    "print(data)\n",
    "#planet_coords = [{'x': data['x'], 'y': data['y'], 'z': data['z'], 'name': planet_coords.index.values.tolist()}]\n",
    "planet_coords = [{'x': data['x'], 'y': data['y']}]\n",
    "# Add two nan values to the end of each list\n",
    "for i in range(len(planet_coords)):\n",
    "    planet_coords[i]['x'].append(float('nan'))\n",
    "    planet_coords[i]['y'].append(float('nan'))\n",
    "    planet_coords[i]['x'].append(float('nan'))\n",
    "    planet_coords[i]['y'].append(float('nan'))"
   ]
  },
  {
   "cell_type": "code",
   "execution_count": 10,
   "metadata": {},
   "outputs": [
    {
     "data": {
      "text/plain": [
       "0.9949792544456858"
      ]
     },
     "execution_count": 10,
     "metadata": {},
     "output_type": "execute_result"
    }
   ],
   "source": [
    "planet_coords[0]['x'][2]"
   ]
  },
  {
   "cell_type": "code",
   "execution_count": 20,
   "metadata": {},
   "outputs": [
    {
     "data": {
      "text/plain": [
       "{'Jupiter': [1, 2, 3],\n",
       " 'Mercury': [1, 2, 3],\n",
       " 'Neptune': [1, 2, 3],\n",
       " 'Uranus': [1, 2, 3],\n",
       " 'Mars': [1, 2, 3],\n",
       " 'Saturn': [1, 2, 3],\n",
       " 'Pluto': [1, 2, 3],\n",
       " 'Earth': [1, 2, 3],\n",
       " 'Venus': [1, 2, 3]}"
      ]
     },
     "execution_count": 20,
     "metadata": {},
     "output_type": "execute_result"
    }
   ],
   "source": [
    "planets = {\"Mercury\", \"Venus\", \"Earth\", \"Mars\", \"Jupiter\", \"Saturn\", \"Uranus\", \"Neptune\", \"Pluto\"}\n",
    "# Set up dictionary to hold planet data\n",
    "planetData = {}\n",
    "# Populate dictionary with planet names\n",
    "for planet in planets:\n",
    "    planetData[planet] = [1,2,3]\n",
    "\n",
    "planetData"
   ]
  },
  {
   "cell_type": "code",
   "execution_count": 21,
   "metadata": {},
   "outputs": [],
   "source": [
    "import plot"
   ]
  },
  {
   "cell_type": "code",
   "execution_count": 32,
   "metadata": {},
   "outputs": [
    {
     "data": {
      "text/html": [
       "<div>\n",
       "<style scoped>\n",
       "    .dataframe tbody tr th:only-of-type {\n",
       "        vertical-align: middle;\n",
       "    }\n",
       "\n",
       "    .dataframe tbody tr th {\n",
       "        vertical-align: top;\n",
       "    }\n",
       "\n",
       "    .dataframe thead th {\n",
       "        text-align: right;\n",
       "    }\n",
       "</style>\n",
       "<table border=\"1\" class=\"dataframe\">\n",
       "  <thead>\n",
       "    <tr style=\"text-align: right;\">\n",
       "      <th></th>\n",
       "      <th>x</th>\n",
       "      <th>y</th>\n",
       "      <th>z</th>\n",
       "    </tr>\n",
       "  </thead>\n",
       "  <tbody>\n",
       "    <tr>\n",
       "      <th>Mercury</th>\n",
       "      <td>0.050822</td>\n",
       "      <td>0.298988</td>\n",
       "      <td>0.019392</td>\n",
       "    </tr>\n",
       "    <tr>\n",
       "      <th>Venus</th>\n",
       "      <td>0.641388</td>\n",
       "      <td>0.316800</td>\n",
       "      <td>-0.032899</td>\n",
       "    </tr>\n",
       "    <tr>\n",
       "      <th>Earth</th>\n",
       "      <td>0.994979</td>\n",
       "      <td>0.004383</td>\n",
       "      <td>0.000207</td>\n",
       "    </tr>\n",
       "    <tr>\n",
       "      <th>Mars</th>\n",
       "      <td>-1.420691</td>\n",
       "      <td>-0.759021</td>\n",
       "      <td>0.018995</td>\n",
       "    </tr>\n",
       "    <tr>\n",
       "      <th>Jupiter</th>\n",
       "      <td>3.983655</td>\n",
       "      <td>2.954041</td>\n",
       "      <td>-0.101381</td>\n",
       "    </tr>\n",
       "    <tr>\n",
       "      <th>Saturn</th>\n",
       "      <td>8.793772</td>\n",
       "      <td>-4.222226</td>\n",
       "      <td>-0.276708</td>\n",
       "    </tr>\n",
       "    <tr>\n",
       "      <th>Uranus</th>\n",
       "      <td>12.567313</td>\n",
       "      <td>15.069056</td>\n",
       "      <td>-0.106845</td>\n",
       "    </tr>\n",
       "    <tr>\n",
       "      <th>Neptune</th>\n",
       "      <td>29.816796</td>\n",
       "      <td>-2.105766</td>\n",
       "      <td>-0.643794</td>\n",
       "    </tr>\n",
       "    <tr>\n",
       "      <th>Pluto</th>\n",
       "      <td>16.923023</td>\n",
       "      <td>-30.425618</td>\n",
       "      <td>-1.639420</td>\n",
       "    </tr>\n",
       "  </tbody>\n",
       "</table>\n",
       "</div>"
      ],
      "text/plain": [
       "                 x          y         z\n",
       "Mercury   0.050822   0.298988  0.019392\n",
       "Venus     0.641388   0.316800 -0.032899\n",
       "Earth     0.994979   0.004383  0.000207\n",
       "Mars     -1.420691  -0.759021  0.018995\n",
       "Jupiter   3.983655   2.954041 -0.101381\n",
       "Saturn    8.793772  -4.222226 -0.276708\n",
       "Uranus   12.567313  15.069056 -0.106845\n",
       "Neptune  29.816796  -2.105766 -0.643794\n",
       "Pluto    16.923023 -30.425618 -1.639420"
      ]
     },
     "execution_count": 32,
     "metadata": {},
     "output_type": "execute_result"
    }
   ],
   "source": [
    "planets = plot.getPlanetData()\n",
    "# Switch axes of dataframe\n",
    "planets = planets.transpose()\n",
    "\n",
    "\n",
    "\n",
    "planets"
   ]
  },
  {
   "cell_type": "code",
   "execution_count": 42,
   "metadata": {},
   "outputs": [
    {
     "data": {
      "text/plain": [
       "['Mercury',\n",
       " 'Venus',\n",
       " 'Earth',\n",
       " 'Mars',\n",
       " 'Jupiter',\n",
       " 'Saturn',\n",
       " 'Uranus',\n",
       " 'Neptune',\n",
       " 'Pluto']"
      ]
     },
     "execution_count": 42,
     "metadata": {},
     "output_type": "execute_result"
    }
   ],
   "source": [
    "planets.index.values.tolist()"
   ]
  },
  {
   "cell_type": "code",
   "execution_count": 44,
   "metadata": {},
   "outputs": [
    {
     "data": {
      "text/plain": [
       "[{'x': [0.05082194316077274,\n",
       "   0.6413879073833666,\n",
       "   0.9949792544456858,\n",
       "   -1.420690979193568,\n",
       "   3.983655074880103,\n",
       "   8.793772431867284,\n",
       "   12.56731270048037,\n",
       "   29.81679557006555,\n",
       "   16.9230232795643],\n",
       "  'y': [0.2989879523036556,\n",
       "   0.3168004866750849,\n",
       "   0.004382957973220163,\n",
       "   -0.7590205747666087,\n",
       "   2.954041008666241,\n",
       "   -4.222226335472898,\n",
       "   15.06905568010637,\n",
       "   -2.105765784414736,\n",
       "   -30.4256180076543],\n",
       "  'z': [0.01939154639008736,\n",
       "   -0.03289918040240307,\n",
       "   0.0002067771236456376,\n",
       "   0.01899467680009725,\n",
       "   -0.1013810539516233,\n",
       "   -0.2767080028477125,\n",
       "   -0.1068450165633456,\n",
       "   -0.6437940889592956,\n",
       "   -1.639420121748169],\n",
       "  'name': ['Mercury',\n",
       "   'Venus',\n",
       "   'Earth',\n",
       "   'Mars',\n",
       "   'Jupiter',\n",
       "   'Saturn',\n",
       "   'Uranus',\n",
       "   'Neptune',\n",
       "   'Pluto']}]"
      ]
     },
     "execution_count": 44,
     "metadata": {},
     "output_type": "execute_result"
    }
   ],
   "source": [
    "data = planets.to_dict(orient='list')\n",
    "result = [{'x': data['x'], 'y': data['y'], 'z': data['z'], 'name': planets.index.values.tolist()}]\n",
    "result"
   ]
  },
  {
   "cell_type": "code",
   "execution_count": null,
   "metadata": {},
   "outputs": [],
   "source": [
    "[{'x': [0.05082194316077274, 0.6413879073833666, 0.9949792544456858, -1.420690979193568, 3.983655074880103, 8.793772431867284, 12.56731270048037, 29.81679557006555, 16.9230232795643], 'y': [0.2989879523036556, 0.3168004866750849, 0.004382957973220163, -0.7590205747666087, 2.954041008666241, -4.222226335472898, 15.06905568010637, -2.105765784414736, -30.4256180076543], 'z': [0.01939154639008736, -0.03289918040240307, 0.0002067771236456376, 0.01899467680009725, -0.1013810539516233, -0.2767080028477125, -0.1068450165633456, -0.6437940889592956, -1.639420121748169], 'name': ['Mercury', 'Venus', 'Earth', 'Mars', 'Jupiter', 'Saturn', 'Uranus', 'Neptune', 'Pluto']},\n",
    "  {'x': [-30.85105845144432, 37.20203911386498], 'y': [-128.1565274780092, -99.51543441395667], 'z': [92.72856762289027, -82.48830807215792], 'name': ['Voyager 1', 'Voyager 2']}]"
   ]
  },
  {
   "cell_type": "code",
   "execution_count": 51,
   "metadata": {},
   "outputs": [
    {
     "data": {
      "text/html": [
       "<div>\n",
       "<style scoped>\n",
       "    .dataframe tbody tr th:only-of-type {\n",
       "        vertical-align: middle;\n",
       "    }\n",
       "\n",
       "    .dataframe tbody tr th {\n",
       "        vertical-align: top;\n",
       "    }\n",
       "\n",
       "    .dataframe thead th {\n",
       "        text-align: right;\n",
       "    }\n",
       "</style>\n",
       "<table border=\"1\" class=\"dataframe\">\n",
       "  <thead>\n",
       "    <tr style=\"text-align: right;\">\n",
       "      <th></th>\n",
       "      <th>Mercury</th>\n",
       "      <th>Venus</th>\n",
       "      <th>Earth</th>\n",
       "      <th>Mars</th>\n",
       "      <th>Jupiter</th>\n",
       "      <th>Saturn</th>\n",
       "      <th>Uranus</th>\n",
       "      <th>Neptune</th>\n",
       "      <th>Pluto</th>\n",
       "    </tr>\n",
       "  </thead>\n",
       "  <tbody>\n",
       "    <tr>\n",
       "      <th>x</th>\n",
       "      <td>0.050822</td>\n",
       "      <td>0.641388</td>\n",
       "      <td>0.994979</td>\n",
       "      <td>-1.420691</td>\n",
       "      <td>3.983655</td>\n",
       "      <td>8.793772</td>\n",
       "      <td>12.567313</td>\n",
       "      <td>29.816796</td>\n",
       "      <td>16.923023</td>\n",
       "    </tr>\n",
       "    <tr>\n",
       "      <th>y</th>\n",
       "      <td>0.298988</td>\n",
       "      <td>0.316800</td>\n",
       "      <td>0.004383</td>\n",
       "      <td>-0.759021</td>\n",
       "      <td>2.954041</td>\n",
       "      <td>-4.222226</td>\n",
       "      <td>15.069056</td>\n",
       "      <td>-2.105766</td>\n",
       "      <td>-30.425618</td>\n",
       "    </tr>\n",
       "    <tr>\n",
       "      <th>z</th>\n",
       "      <td>0.019392</td>\n",
       "      <td>-0.032899</td>\n",
       "      <td>0.000207</td>\n",
       "      <td>0.018995</td>\n",
       "      <td>-0.101381</td>\n",
       "      <td>-0.276708</td>\n",
       "      <td>-0.106845</td>\n",
       "      <td>-0.643794</td>\n",
       "      <td>-1.639420</td>\n",
       "    </tr>\n",
       "  </tbody>\n",
       "</table>\n",
       "</div>"
      ],
      "text/plain": [
       "    Mercury     Venus     Earth      Mars   Jupiter    Saturn     Uranus  \\\n",
       "x  0.050822  0.641388  0.994979 -1.420691  3.983655  8.793772  12.567313   \n",
       "y  0.298988  0.316800  0.004383 -0.759021  2.954041 -4.222226  15.069056   \n",
       "z  0.019392 -0.032899  0.000207  0.018995 -0.101381 -0.276708  -0.106845   \n",
       "\n",
       "     Neptune      Pluto  \n",
       "x  29.816796  16.923023  \n",
       "y  -2.105766 -30.425618  \n",
       "z  -0.643794  -1.639420  "
      ]
     },
     "execution_count": 51,
     "metadata": {},
     "output_type": "execute_result"
    }
   ],
   "source": [
    "planet_coords = plot.getPlanetData()\n",
    "mylist = planet_coords.to_dict(orient='list')\n",
    "planet_coords"
   ]
  },
  {
   "cell_type": "code",
   "execution_count": 3,
   "metadata": {},
   "outputs": [
    {
     "data": {
      "text/html": [
       "<div>\n",
       "<style scoped>\n",
       "    .dataframe tbody tr th:only-of-type {\n",
       "        vertical-align: middle;\n",
       "    }\n",
       "\n",
       "    .dataframe tbody tr th {\n",
       "        vertical-align: top;\n",
       "    }\n",
       "\n",
       "    .dataframe thead th {\n",
       "        text-align: right;\n",
       "    }\n",
       "</style>\n",
       "<table border=\"1\" class=\"dataframe\">\n",
       "  <thead>\n",
       "    <tr style=\"text-align: right;\">\n",
       "      <th></th>\n",
       "      <th>x</th>\n",
       "      <th>y</th>\n",
       "      <th>z</th>\n",
       "    </tr>\n",
       "  </thead>\n",
       "  <tbody>\n",
       "    <tr>\n",
       "      <th>Voyager 1</th>\n",
       "      <td>-30.851058</td>\n",
       "      <td>-128.156527</td>\n",
       "      <td>92.728568</td>\n",
       "    </tr>\n",
       "    <tr>\n",
       "      <th>Voyager 2</th>\n",
       "      <td>37.202039</td>\n",
       "      <td>-99.515434</td>\n",
       "      <td>-82.488308</td>\n",
       "    </tr>\n",
       "  </tbody>\n",
       "</table>\n",
       "</div>"
      ],
      "text/plain": [
       "                   x           y          z\n",
       "Voyager 1 -30.851058 -128.156527  92.728568\n",
       "Voyager 2  37.202039  -99.515434 -82.488308"
      ]
     },
     "execution_count": 3,
     "metadata": {},
     "output_type": "execute_result"
    }
   ],
   "source": [
    "plot.getVoyagerData()"
   ]
  },
  {
   "cell_type": "code",
   "execution_count": 6,
   "metadata": {},
   "outputs": [
    {
     "name": "stdout",
     "output_type": "stream",
     "text": [
      "                 x          y         z\n",
      "Mercury   0.050822   0.298988  0.019392\n",
      "Venus     0.641388   0.316800 -0.032899\n",
      "Earth     0.994979   0.004383  0.000207\n",
      "Mars     -1.420691  -0.759021  0.018995\n",
      "Jupiter   3.983655   2.954041 -0.101381\n",
      "Saturn    8.793772  -4.222226 -0.276708\n",
      "Uranus   12.567313  15.069056 -0.106845\n",
      "Neptune  29.816796  -2.105766 -0.643794\n",
      "Pluto    16.923023 -30.425618 -1.639420\n",
      "{'x': [0.05082194316077274, 0.6413879073833666, 0.9949792544456858, -1.420690979193568, 3.983655074880103, 8.793772431867284, 12.56731270048037, 29.81679557006555, 16.9230232795643], 'y': [0.2989879523036556, 0.3168004866750849, 0.004382957973220163, -0.7590205747666087, 2.954041008666241, -4.222226335472898, 15.06905568010637, -2.105765784414736, -30.4256180076543], 'z': [0.01939154639008736, -0.03289918040240307, 0.0002067771236456376, 0.01899467680009725, -0.1013810539516233, -0.2767080028477125, -0.1068450165633456, -0.6437940889592956, -1.639420121748169]}\n",
      "[{'x': [0.05082194316077274, 0.6413879073833666, 0.9949792544456858, -1.420690979193568, 3.983655074880103, 8.793772431867284, 12.56731270048037, 29.81679557006555, 16.9230232795643, nan, nan], 'y': [0.2989879523036556, 0.3168004866750849, 0.004382957973220163, -0.7590205747666087, 2.954041008666241, -4.222226335472898, 15.06905568010637, -2.105765784414736, -30.4256180076543, nan, nan]}]\n"
     ]
    },
    {
     "data": {
      "text/plain": [
       "[{'x': [0.05082194316077274,\n",
       "   0.6413879073833666,\n",
       "   0.9949792544456858,\n",
       "   -1.420690979193568,\n",
       "   3.983655074880103,\n",
       "   8.793772431867284,\n",
       "   12.56731270048037,\n",
       "   29.81679557006555,\n",
       "   16.9230232795643,\n",
       "   nan,\n",
       "   nan],\n",
       "  'y': [0.2989879523036556,\n",
       "   0.3168004866750849,\n",
       "   0.004382957973220163,\n",
       "   -0.7590205747666087,\n",
       "   2.954041008666241,\n",
       "   -4.222226335472898,\n",
       "   15.06905568010637,\n",
       "   -2.105765784414736,\n",
       "   -30.4256180076543,\n",
       "   nan,\n",
       "   nan]},\n",
       " {'x': [nan,\n",
       "   nan,\n",
       "   nan,\n",
       "   nan,\n",
       "   nan,\n",
       "   nan,\n",
       "   nan,\n",
       "   nan,\n",
       "   nan,\n",
       "   -30.85105845144432,\n",
       "   37.20203911386498],\n",
       "  'y': [nan,\n",
       "   nan,\n",
       "   nan,\n",
       "   nan,\n",
       "   nan,\n",
       "   nan,\n",
       "   nan,\n",
       "   nan,\n",
       "   nan,\n",
       "   -128.1565274780092,\n",
       "   -99.51543441395667]}]"
      ]
     },
     "execution_count": 6,
     "metadata": {},
     "output_type": "execute_result"
    }
   ],
   "source": [
    "planet_coords = plot.getPlanetData()\n",
    "print(planet_coords)\n",
    "data = planet_coords.to_dict(orient='list')\n",
    "print(data)\n",
    "#planet_coords = [{'x': data['x'], 'y': data['y'], 'z': data['z'], 'name': planet_coords.index.values.tolist()}]\n",
    "planet_coords = [{'x': data['x'], 'y': data['y']}]\n",
    "# Add two nan values to the end of each list\n",
    "for i in range(len(planet_coords)):\n",
    "    planet_coords[i]['x'].append(float('nan'))\n",
    "    planet_coords[i]['y'].append(float('nan'))\n",
    "    planet_coords[i]['x'].append(float('nan'))\n",
    "    planet_coords[i]['y'].append(float('nan'))\n",
    "    #planet_coords[i]['z'].append(float('nan'))\n",
    "print(planet_coords)\n",
    "\n",
    "voyager_coords = plot.getVoyagerData()\n",
    "data = voyager_coords.to_dict(orient='list')\n",
    "#voyager_coords = [{'x': data['x'], 'y': data['y'], 'z': data['z'], 'name': voyager_coords.index.values.tolist()}]\n",
    "voyager_coords = [{'x': data['x'], 'y': data['y']}]\n",
    "# Prepend 9 nan values to the beginning of each list\n",
    "for j in range(9):\n",
    "    for i in range(len(voyager_coords)):\n",
    "        voyager_coords[i]['x'].insert(0, float('nan'))\n",
    "        voyager_coords[i]['y'].insert(0, float('nan'))\n",
    "        #voyager_coords[i]['z'].append(float('nan'))\n",
    "\n",
    "object_coords = planet_coords + voyager_coords\n",
    "object_coords\n"
   ]
  },
  {
   "cell_type": "code",
   "execution_count": 24,
   "metadata": {},
   "outputs": [
    {
     "data": {
      "text/plain": [
       "[{'x': 0.05082194316077274,\n",
       "  'y': 0.2989879523036556,\n",
       "  'z': 0.01939154639008736,\n",
       "  'name': 'Mercury'},\n",
       " {'x': 0.6413879073833666,\n",
       "  'y': 0.3168004866750849,\n",
       "  'z': -0.03289918040240307,\n",
       "  'name': 'Venus'},\n",
       " {'x': 0.9949792544456858,\n",
       "  'y': 0.004382957973220163,\n",
       "  'z': 0.0002067771236456376,\n",
       "  'name': 'Earth'},\n",
       " {'x': -1.420690979193568,\n",
       "  'y': -0.7590205747666087,\n",
       "  'z': 0.01899467680009725,\n",
       "  'name': 'Mars'},\n",
       " {'x': 3.983655074880103,\n",
       "  'y': 2.954041008666241,\n",
       "  'z': -0.1013810539516233,\n",
       "  'name': 'Jupiter'},\n",
       " {'x': 8.793772431867284,\n",
       "  'y': -4.222226335472898,\n",
       "  'z': -0.2767080028477125,\n",
       "  'name': 'Saturn'},\n",
       " {'x': 12.56731270048037,\n",
       "  'y': 15.06905568010637,\n",
       "  'z': -0.1068450165633456,\n",
       "  'name': 'Uranus'},\n",
       " {'x': 29.81679557006555,\n",
       "  'y': -2.105765784414736,\n",
       "  'z': -0.6437940889592956,\n",
       "  'name': 'Neptune'},\n",
       " {'x': 16.9230232795643,\n",
       "  'y': -30.4256180076543,\n",
       "  'z': -1.639420121748169,\n",
       "  'name': 'Pluto'}]"
      ]
     },
     "execution_count": 24,
     "metadata": {},
     "output_type": "execute_result"
    }
   ],
   "source": [
    "# Convert from planets to dictionaries\n",
    "# [{\"x\":[mercury x, venus x, ...], \"y\":[mercury y, venus y, ...], \"z\":[mercury z, venus z, ...], \"name\":[mercury, venus, ...]}, {\"x\":[mercury x, venus x, ...], \"y\":[mercury y, venus y, ...], \"z\":[mercury z, venus z, ...], \"name\":[\"Mercury\", \"Venus\", ...]}]\n",
    "def planetsToDict(planets):\n",
    "    # Create list of dictionaries\n",
    "    planetList = []\n",
    "    # Create dictionary for each planet\n",
    "    for i in range(len(planets)):\n",
    "        planetDict = {}\n",
    "        planetDict['x'] = planets['x'][i]\n",
    "        planetDict['y'] = planets['y'][i]\n",
    "        planetDict['z'] = planets['z'][i]\n",
    "        planetDict['name'] = planets.index[i]\n",
    "        planetList.append(planetDict)\n",
    "    return planetList\n",
    "\n",
    "planets = planetsToDict(planets)\n",
    "planets"
   ]
  },
  {
   "cell_type": "code",
   "execution_count": 21,
   "metadata": {},
   "outputs": [],
   "source": [
    "spacecraft = ['Voyager 1', 'Voyager 2', 'Mars Express', 'Juno', 'Cassini', \"Explorer 1\", \"Cluster 4\"]"
   ]
  },
  {
   "cell_type": "code",
   "execution_count": 22,
   "metadata": {},
   "outputs": [
    {
     "name": "stdout",
     "output_type": "stream",
     "text": [
      "Voyager 1 161.1562165650144 AU\n",
      "Voyager 2 134.496458509848 AU\n",
      "Mars Express 1.611846516214913 AU\n",
      "1 Fail\n",
      "Ambiguous target name; provide unique id:\n",
      "  ID#      Name                               Designation  IAU/aliases/other   \n",
      "  -------  ---------------------------------- -----------  ------------------- \n",
      "      -61  Juno (spacecraft)                                                    \n",
      "     -610  Juno Centaur Stage (spacecraft)                                      \n",
      " \n",
      "Juno 4.955727320890237 AU\n",
      "1 Fail\n",
      "Ambiguous target name; provide unique id:\n",
      "  ID#      Name                               Designation  IAU/aliases/other   \n",
      "  -------  ---------------------------------- -----------  ------------------- \n",
      "      -82  Cassini (spacecraft)                                                 \n",
      "     -150  Cassini Huygens (spacecraft)                                         \n",
      " \n",
      "No current ephemeris for Cassini\n",
      "1 Fail\n",
      "No ephemeris found for Explorer 1\n",
      "1 Fail\n",
      "No ephemeris found for Cluster 4\n"
     ]
    }
   ],
   "source": [
    "for craft in spacecraft:\n",
    "    try :\n",
    "        print(craft, getSingleRange(craft), \"AU\")\n",
    "    except ValueError as e:\n",
    "        print(\"1 Fail\")\n",
    "        if 'Ambiguous target name' in str(e):\n",
    "            print(e)\n",
    "            try:\n",
    "                print(craft, getSingleRange(craft+' (spacecraft)'), \"AU\")\n",
    "            except ValueError as e:\n",
    "                if \"No ephemeris\" and \"after\" in str(e):\n",
    "                    print(\"No current ephemeris for\", craft)\n",
    "                else:\n",
    "                    print(\"No ephemeris found for \", craft)\n",
    "        else:\n",
    "            print(\"No ephemeris found for\", craft)"
   ]
  }
 ],
 "metadata": {
  "kernelspec": {
   "display_name": "macro",
   "language": "python",
   "name": "python3"
  },
  "language_info": {
   "codemirror_mode": {
    "name": "ipython",
    "version": 3
   },
   "file_extension": ".py",
   "mimetype": "text/x-python",
   "name": "python",
   "nbconvert_exporter": "python",
   "pygments_lexer": "ipython3",
   "version": "3.10.9"
  },
  "orig_nbformat": 4
 },
 "nbformat": 4,
 "nbformat_minor": 2
}
