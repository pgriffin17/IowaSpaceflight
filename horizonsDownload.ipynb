{
 "cells": [
  {
   "cell_type": "code",
   "execution_count": 1,
   "metadata": {},
   "outputs": [],
   "source": [
    "import astroquery.jplhorizons as jpl\n",
    "import astropy.time as time\n",
    "import astropy.units as u\n",
    "import numpy as np\n",
    "import pandas as pd\n",
    "import urllib.request\n",
    "import read_web\n",
    "from datetime import datetime\n",
    "import re"
   ]
  },
  {
   "cell_type": "code",
   "execution_count": 25,
   "metadata": {},
   "outputs": [],
   "source": [
    "# Get vectors for spacecraft from JPL Horizons\n",
    "\n",
    "def getVectors(object, start, stop, step):\n",
    "    obj = jpl.Horizons(id=object, location='500@0', epochs={'start':start, 'stop':stop, 'step':step})\n",
    "    return obj.vectors()\n",
    "\n",
    "# Get vectors for object centered on current date\n",
    "# plus/minus a specified number of days\n",
    "# and for a specified time step\n",
    "def getVectorsNow(object, start_diff, step):\n",
    "    # get current date using astropy.time\n",
    "    now = time.Time.now()\n",
    "    # Get start/end dates\n",
    "    if step.endswith('d'):\n",
    "        start_diff = int(start_diff.split('d')[0])\n",
    "        print(start_diff)\n",
    "        start = now - start_diff*u.day\n",
    "        stop = now + start_diff*u.day\n",
    "    elif step.endswith('h'):\n",
    "        start_diff = start_diff.split('h')[0]\n",
    "        start = now - start_diff*u.hour\n",
    "        stop = now + start_diff*u.hour\n",
    "    elif step.endswith('m'):\n",
    "        start_diff = start_diff.split('m')[0]\n",
    "        start = now - start_diff*u.minute\n",
    "        stop = now + start_diff*u.minute\n",
    "    else:\n",
    "        print('Error: time step must end with d, h, or m')\n",
    "        return\n",
    "    start = start.iso\n",
    "    stop = stop.iso\n",
    "    obj = jpl.Horizons(id=object, location='500@0', epochs={'start':start, 'stop':stop, 'step':step})\n",
    "    return obj.vectors()"
   ]
  },
  {
   "cell_type": "code",
   "execution_count": null,
   "metadata": {},
   "outputs": [],
   "source": [
    "def breakObjectList(spacecraft, minAU, maxAU):\n",
    "    # If spacecraft is closer than minAU, add to freqList\n",
    "    # If spacecraft is farther than maxAU, add to slowList\n",
    "    # If spacecraft is between minAU and maxAU, add to midList\n",
    "    freqList = []\n",
    "    midList = []\n",
    "    slowList = []\n",
    "\n",
    "    for i in range(len(spacecraft)):\n",
    "        if spacecraft['range'][i] < minAU:\n",
    "            freqList.append(spacecraft[i])\n",
    "        elif spacecraft['range'][i] > maxAU:\n",
    "            slowList.append(spacecraft[i])\n",
    "        else:\n",
    "            midList.append(spacecraft[i])\n",
    "\n",
    "    return freqList, midList, slowList"
   ]
  },
  {
   "cell_type": "code",
   "execution_count": 29,
   "metadata": {},
   "outputs": [
    {
     "data": {
      "text/plain": [
       "'2023-09-23'"
      ]
     },
     "execution_count": 29,
     "metadata": {},
     "output_type": "execute_result"
    }
   ],
   "source": [
    "# Get current date using astropy.time\n",
    "now = time.Time.now()\n",
    "# Get only date from now, not time\n",
    "now = now.iso.split(' ')[0]\n",
    "now"
   ]
  },
  {
   "cell_type": "code",
   "execution_count": 7,
   "metadata": {},
   "outputs": [],
   "source": [
    "# Get single vector for a given object\n",
    "def getSingleVector(object):\n",
    "    # Get current date using astropy.time\n",
    "    now = time.Time.now()\n",
    "    # Get only date from now, not time\n",
    "    now = now.iso.split(' ')[0]\n",
    "    vector = jpl.Horizons(id=object, location='500@0', epochs={now})\n",
    "    vector = vector.vectors()\n",
    "    return vector\n",
    "\n",
    "def getSingleRange(object):\n",
    "    vector = getSingleVector(object)\n",
    "    return vector['range'][0]"
   ]
  },
  {
   "cell_type": "code",
   "execution_count": 21,
   "metadata": {},
   "outputs": [],
   "source": [
    "spacecraft = ['Voyager 1', 'Voyager 2', 'Mars Express', 'Juno', 'Cassini', \"Explorer 1\", \"Cluster 4\"]"
   ]
  },
  {
   "cell_type": "code",
   "execution_count": 22,
   "metadata": {},
   "outputs": [
    {
     "name": "stdout",
     "output_type": "stream",
     "text": [
      "Voyager 1 161.1562165650144 AU\n",
      "Voyager 2 134.496458509848 AU\n",
      "Mars Express 1.611846516214913 AU\n",
      "1 Fail\n",
      "Ambiguous target name; provide unique id:\n",
      "  ID#      Name                               Designation  IAU/aliases/other   \n",
      "  -------  ---------------------------------- -----------  ------------------- \n",
      "      -61  Juno (spacecraft)                                                    \n",
      "     -610  Juno Centaur Stage (spacecraft)                                      \n",
      " \n",
      "Juno 4.955727320890237 AU\n",
      "1 Fail\n",
      "Ambiguous target name; provide unique id:\n",
      "  ID#      Name                               Designation  IAU/aliases/other   \n",
      "  -------  ---------------------------------- -----------  ------------------- \n",
      "      -82  Cassini (spacecraft)                                                 \n",
      "     -150  Cassini Huygens (spacecraft)                                         \n",
      " \n",
      "No current ephemeris for Cassini\n",
      "1 Fail\n",
      "No ephemeris found for Explorer 1\n",
      "1 Fail\n",
      "No ephemeris found for Cluster 4\n"
     ]
    }
   ],
   "source": [
    "for craft in spacecraft:\n",
    "    try :\n",
    "        print(craft, getSingleRange(craft), \"AU\")\n",
    "    except ValueError as e:\n",
    "        print(\"1 Fail\")\n",
    "        if 'Ambiguous target name' in str(e):\n",
    "            print(e)\n",
    "            try:\n",
    "                print(craft, getSingleRange(craft+' (spacecraft)'), \"AU\")\n",
    "            except ValueError as e:\n",
    "                if \"No ephemeris\" and \"after\" in str(e):\n",
    "                    print(\"No current ephemeris for\", craft)\n",
    "                else:\n",
    "                    print(\"No ephemeris found for \", craft)\n",
    "        else:\n",
    "            print(\"No ephemeris found for\", craft)"
   ]
  }
 ],
 "metadata": {
  "kernelspec": {
   "display_name": "macro",
   "language": "python",
   "name": "python3"
  },
  "language_info": {
   "codemirror_mode": {
    "name": "ipython",
    "version": 3
   },
   "file_extension": ".py",
   "mimetype": "text/x-python",
   "name": "python",
   "nbconvert_exporter": "python",
   "pygments_lexer": "ipython3",
   "version": "3.10.9"
  },
  "orig_nbformat": 4
 },
 "nbformat": 4,
 "nbformat_minor": 2
}
